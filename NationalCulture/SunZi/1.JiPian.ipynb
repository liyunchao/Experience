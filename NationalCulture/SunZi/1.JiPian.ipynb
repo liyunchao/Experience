{
 "cells": [
  {
   "cell_type": "markdown",
   "metadata": {
    "deletable": true,
    "editable": true
   },
   "source": [
    "# 计篇\n",
    "- 选将：选择己方对抗人员\n",
    "- 量敌：度量敌人实力，与己方选将关系密切\n",
    "- 度地：衡量战场形势，制定战略\n",
    "- 料卒：衡量冲锋陷阵的一线人员\n",
    "- 远近：空间和时间角度判断，优劣形势\n",
    "- 险易：成功与失败的风险，以及各自的后果\n",
    "\n",
    "事先计算，是为了到时候方便随机应变，做到心中有数"
   ]
  },
  {
   "cell_type": "markdown",
   "metadata": {
    "collapsed": true,
    "deletable": true,
    "editable": true
   },
   "source": [
    "## 原则\n",
    "1. 必须务实，生死犹关。胜了可得到更大发展，败了可能会灭亡。\n",
    "2. "
   ]
  },
  {
   "cell_type": "code",
   "execution_count": null,
   "metadata": {
    "collapsed": true
   },
   "outputs": [],
   "source": []
  }
 ],
 "metadata": {
  "anaconda-cloud": {},
  "kernelspec": {
   "display_name": "Python 2",
   "language": "python",
   "name": "python2"
  },
  "language_info": {
   "codemirror_mode": {
    "name": "ipython",
    "version": 2
   },
   "file_extension": ".py",
   "mimetype": "text/x-python",
   "name": "python",
   "nbconvert_exporter": "python",
   "pygments_lexer": "ipython2",
   "version": "2.7.13"
  }
 },
 "nbformat": 4,
 "nbformat_minor": 1
}
